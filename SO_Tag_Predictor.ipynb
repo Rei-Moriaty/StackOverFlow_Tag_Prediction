{
  "nbformat": 4,
  "nbformat_minor": 0,
  "metadata": {
    "colab": {
      "name": "SO_Tag_Predictor.ipynb",
      "provenance": [],
      "authorship_tag": "ABX9TyPPjxG9oCe8FuGx8xUX5DTq",
      "include_colab_link": true
    },
    "kernelspec": {
      "name": "python3",
      "display_name": "Python 3"
    },
    "language_info": {
      "name": "python"
    }
  },
  "cells": [
    {
      "cell_type": "markdown",
      "metadata": {
        "id": "view-in-github",
        "colab_type": "text"
      },
      "source": [
        "<a href=\"https://colab.research.google.com/github/Rei-Moriaty/StackOverFlow_Tag_Prediction/blob/main/SO_Tag_Predictor.ipynb\" target=\"_parent\"><img src=\"https://colab.research.google.com/assets/colab-badge.svg\" alt=\"Open In Colab\"/></a>"
      ]
    },
    {
      "cell_type": "code",
      "execution_count": null,
      "metadata": {
        "id": "v7EKjWhqYyZV"
      },
      "outputs": [],
      "source": [
        ""
      ]
    }
  ]
}