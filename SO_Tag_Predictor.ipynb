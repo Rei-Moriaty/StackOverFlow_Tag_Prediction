{
  "nbformat": 4,
  "nbformat_minor": 0,
  "metadata": {
    "colab": {
      "name": "SO_Tag_Predictor.ipynb",
      "provenance": [],
      "authorship_tag": "ABX9TyPrquaCJbL3MARtHnK1/Zhg",
      "include_colab_link": true
    },
    "kernelspec": {
      "name": "python3",
      "display_name": "Python 3"
    },
    "language_info": {
      "name": "python"
    }
  },
  "cells": [
    {
      "cell_type": "markdown",
      "metadata": {
        "id": "view-in-github",
        "colab_type": "text"
      },
      "source": [
        "<a href=\"https://colab.research.google.com/github/Rei-Moriaty/StackOverFlow_Tag_Prediction/blob/main/SO_Tag_Predictor.ipynb\" target=\"_parent\"><img src=\"https://colab.research.google.com/assets/colab-badge.svg\" alt=\"Open In Colab\"/></a>"
      ]
    },
    {
      "cell_type": "code",
      "source": [
        "import os\n",
        "os.environ['KAGGLE_USERNAME'] = \"\"\n",
        "os.environ['KAGGLE_KEY'] = \"\""
      ],
      "metadata": {
        "id": "S3z6XgYFlJpl"
      },
      "execution_count": 1,
      "outputs": []
    },
    {
      "cell_type": "code",
      "source": [
        "!kaggle competitions download facebook-recruiting-iii-keyword-extraction"
      ],
      "metadata": {
        "id": "BReOAjbxkLfv",
        "colab": {
          "base_uri": "https://localhost:8080/"
        },
        "outputId": "75629d86-02ff-4bc4-9f1d-53bcb94659b9"
      },
      "execution_count": 2,
      "outputs": [
        {
          "output_type": "stream",
          "name": "stdout",
          "text": [
            "Downloading facebook-recruiting-iii-keyword-extraction.zip to /content\n",
            " 99% 2.88G/2.90G [00:23<00:00, 84.3MB/s]\n",
            "100% 2.90G/2.90G [00:23<00:00, 135MB/s] \n"
          ]
        }
      ]
    },
    {
      "cell_type": "code",
      "source": [
        "!unzip /content/facebook-recruiting-iii-keyword-extraction.zip"
      ],
      "metadata": {
        "id": "T9pZJJ8DkUZ-",
        "colab": {
          "base_uri": "https://localhost:8080/"
        },
        "outputId": "092cc833-c48a-40cd-e7a3-4f18e897be3e"
      },
      "execution_count": 3,
      "outputs": [
        {
          "output_type": "stream",
          "name": "stdout",
          "text": [
            "Archive:  /content/facebook-recruiting-iii-keyword-extraction.zip\n",
            "  inflating: SampleSubmission.csv    \n",
            "  inflating: Test.zip                \n",
            "  inflating: Train.zip               \n"
          ]
        }
      ]
    },
    {
      "cell_type": "code",
      "source": [
        "!unzip /content/Train.zip\n",
        "!unzip /content/Test.zip"
      ],
      "metadata": {
        "id": "iX_W2CUFkYP9",
        "colab": {
          "base_uri": "https://localhost:8080/"
        },
        "outputId": "3815cf80-0ab0-458e-e763-5521b2021bbb"
      },
      "execution_count": 4,
      "outputs": [
        {
          "output_type": "stream",
          "name": "stdout",
          "text": [
            "Archive:  /content/Train.zip\n",
            "  inflating: Train.csv               \n",
            "Archive:  /content/Test.zip\n",
            "  inflating: Test.csv                \n"
          ]
        }
      ]
    },
    {
      "cell_type": "code",
      "source": [
        "import numpy as np\n",
        "import pandas as pd \n",
        "import matplotlib.pyplot as plt\n",
        "import seaborn as sns "
      ],
      "metadata": {
        "id": "TFJC0Xphkfvt"
      },
      "execution_count": 5,
      "outputs": []
    },
    {
      "cell_type": "code",
      "source": [
        "dataset = pd.read_csv('Train.csv')"
      ],
      "metadata": {
        "id": "kcypWhkFlzDF"
      },
      "execution_count": 6,
      "outputs": []
    },
    {
      "cell_type": "code",
      "source": [
        "dataset.head()"
      ],
      "metadata": {
        "colab": {
          "base_uri": "https://localhost:8080/",
          "height": 337
        },
        "id": "V9ko48yWn0Do",
        "outputId": "d35c0d0d-03f2-4762-e343-c7a3b87cbaff"
      },
      "execution_count": 4,
      "outputs": [
        {
          "output_type": "execute_result",
          "data": {
            "text/plain": [
              "   Id                                              Title  \\\n",
              "0   1  How to check if an uploaded file is an image w...   \n",
              "1   2  How can I prevent firefox from closing when I ...   \n",
              "2   3           R Error Invalid type (list) for variable   \n",
              "3   4      How do I replace special characters in a URL?   \n",
              "4   5               How to modify whois contact details?   \n",
              "\n",
              "                                                Body  \\\n",
              "0  <p>I'd like to check if an uploaded file is an...   \n",
              "1  <p>In my favorite editor (vim), I regularly us...   \n",
              "2  <p>I am import matlab file and construct a dat...   \n",
              "3  <p>This is probably very simple, but I simply ...   \n",
              "4  <pre><code>function modify(.......)\\n{\\n  $mco...   \n",
              "\n",
              "                                                Tags  \n",
              "0  php image-processing file-upload upload mime-t...  \n",
              "1                                            firefox  \n",
              "2                          r matlab machine-learning  \n",
              "3                                    c# url encoding  \n",
              "4                          php api file-get-contents  "
            ],
            "text/html": [
              "\n",
              "  <div id=\"df-26d24cc1-e00f-43cc-b09c-a0faac0eaa95\">\n",
              "    <div class=\"colab-df-container\">\n",
              "      <div>\n",
              "<style scoped>\n",
              "    .dataframe tbody tr th:only-of-type {\n",
              "        vertical-align: middle;\n",
              "    }\n",
              "\n",
              "    .dataframe tbody tr th {\n",
              "        vertical-align: top;\n",
              "    }\n",
              "\n",
              "    .dataframe thead th {\n",
              "        text-align: right;\n",
              "    }\n",
              "</style>\n",
              "<table border=\"1\" class=\"dataframe\">\n",
              "  <thead>\n",
              "    <tr style=\"text-align: right;\">\n",
              "      <th></th>\n",
              "      <th>Id</th>\n",
              "      <th>Title</th>\n",
              "      <th>Body</th>\n",
              "      <th>Tags</th>\n",
              "    </tr>\n",
              "  </thead>\n",
              "  <tbody>\n",
              "    <tr>\n",
              "      <th>0</th>\n",
              "      <td>1</td>\n",
              "      <td>How to check if an uploaded file is an image w...</td>\n",
              "      <td>&lt;p&gt;I'd like to check if an uploaded file is an...</td>\n",
              "      <td>php image-processing file-upload upload mime-t...</td>\n",
              "    </tr>\n",
              "    <tr>\n",
              "      <th>1</th>\n",
              "      <td>2</td>\n",
              "      <td>How can I prevent firefox from closing when I ...</td>\n",
              "      <td>&lt;p&gt;In my favorite editor (vim), I regularly us...</td>\n",
              "      <td>firefox</td>\n",
              "    </tr>\n",
              "    <tr>\n",
              "      <th>2</th>\n",
              "      <td>3</td>\n",
              "      <td>R Error Invalid type (list) for variable</td>\n",
              "      <td>&lt;p&gt;I am import matlab file and construct a dat...</td>\n",
              "      <td>r matlab machine-learning</td>\n",
              "    </tr>\n",
              "    <tr>\n",
              "      <th>3</th>\n",
              "      <td>4</td>\n",
              "      <td>How do I replace special characters in a URL?</td>\n",
              "      <td>&lt;p&gt;This is probably very simple, but I simply ...</td>\n",
              "      <td>c# url encoding</td>\n",
              "    </tr>\n",
              "    <tr>\n",
              "      <th>4</th>\n",
              "      <td>5</td>\n",
              "      <td>How to modify whois contact details?</td>\n",
              "      <td>&lt;pre&gt;&lt;code&gt;function modify(.......)\\n{\\n  $mco...</td>\n",
              "      <td>php api file-get-contents</td>\n",
              "    </tr>\n",
              "  </tbody>\n",
              "</table>\n",
              "</div>\n",
              "      <button class=\"colab-df-convert\" onclick=\"convertToInteractive('df-26d24cc1-e00f-43cc-b09c-a0faac0eaa95')\"\n",
              "              title=\"Convert this dataframe to an interactive table.\"\n",
              "              style=\"display:none;\">\n",
              "        \n",
              "  <svg xmlns=\"http://www.w3.org/2000/svg\" height=\"24px\"viewBox=\"0 0 24 24\"\n",
              "       width=\"24px\">\n",
              "    <path d=\"M0 0h24v24H0V0z\" fill=\"none\"/>\n",
              "    <path d=\"M18.56 5.44l.94 2.06.94-2.06 2.06-.94-2.06-.94-.94-2.06-.94 2.06-2.06.94zm-11 1L8.5 8.5l.94-2.06 2.06-.94-2.06-.94L8.5 2.5l-.94 2.06-2.06.94zm10 10l.94 2.06.94-2.06 2.06-.94-2.06-.94-.94-2.06-.94 2.06-2.06.94z\"/><path d=\"M17.41 7.96l-1.37-1.37c-.4-.4-.92-.59-1.43-.59-.52 0-1.04.2-1.43.59L10.3 9.45l-7.72 7.72c-.78.78-.78 2.05 0 2.83L4 21.41c.39.39.9.59 1.41.59.51 0 1.02-.2 1.41-.59l7.78-7.78 2.81-2.81c.8-.78.8-2.07 0-2.86zM5.41 20L4 18.59l7.72-7.72 1.47 1.35L5.41 20z\"/>\n",
              "  </svg>\n",
              "      </button>\n",
              "      \n",
              "  <style>\n",
              "    .colab-df-container {\n",
              "      display:flex;\n",
              "      flex-wrap:wrap;\n",
              "      gap: 12px;\n",
              "    }\n",
              "\n",
              "    .colab-df-convert {\n",
              "      background-color: #E8F0FE;\n",
              "      border: none;\n",
              "      border-radius: 50%;\n",
              "      cursor: pointer;\n",
              "      display: none;\n",
              "      fill: #1967D2;\n",
              "      height: 32px;\n",
              "      padding: 0 0 0 0;\n",
              "      width: 32px;\n",
              "    }\n",
              "\n",
              "    .colab-df-convert:hover {\n",
              "      background-color: #E2EBFA;\n",
              "      box-shadow: 0px 1px 2px rgba(60, 64, 67, 0.3), 0px 1px 3px 1px rgba(60, 64, 67, 0.15);\n",
              "      fill: #174EA6;\n",
              "    }\n",
              "\n",
              "    [theme=dark] .colab-df-convert {\n",
              "      background-color: #3B4455;\n",
              "      fill: #D2E3FC;\n",
              "    }\n",
              "\n",
              "    [theme=dark] .colab-df-convert:hover {\n",
              "      background-color: #434B5C;\n",
              "      box-shadow: 0px 1px 3px 1px rgba(0, 0, 0, 0.15);\n",
              "      filter: drop-shadow(0px 1px 2px rgba(0, 0, 0, 0.3));\n",
              "      fill: #FFFFFF;\n",
              "    }\n",
              "  </style>\n",
              "\n",
              "      <script>\n",
              "        const buttonEl =\n",
              "          document.querySelector('#df-26d24cc1-e00f-43cc-b09c-a0faac0eaa95 button.colab-df-convert');\n",
              "        buttonEl.style.display =\n",
              "          google.colab.kernel.accessAllowed ? 'block' : 'none';\n",
              "\n",
              "        async function convertToInteractive(key) {\n",
              "          const element = document.querySelector('#df-26d24cc1-e00f-43cc-b09c-a0faac0eaa95');\n",
              "          const dataTable =\n",
              "            await google.colab.kernel.invokeFunction('convertToInteractive',\n",
              "                                                     [key], {});\n",
              "          if (!dataTable) return;\n",
              "\n",
              "          const docLinkHtml = 'Like what you see? Visit the ' +\n",
              "            '<a target=\"_blank\" href=https://colab.research.google.com/notebooks/data_table.ipynb>data table notebook</a>'\n",
              "            + ' to learn more about interactive tables.';\n",
              "          element.innerHTML = '';\n",
              "          dataTable['output_type'] = 'display_data';\n",
              "          await google.colab.output.renderOutput(dataTable, element);\n",
              "          const docLink = document.createElement('div');\n",
              "          docLink.innerHTML = docLinkHtml;\n",
              "          element.appendChild(docLink);\n",
              "        }\n",
              "      </script>\n",
              "    </div>\n",
              "  </div>\n",
              "  "
            ]
          },
          "metadata": {},
          "execution_count": 4
        }
      ]
    },
    {
      "cell_type": "markdown",
      "source": [
        "# EDA"
      ],
      "metadata": {
        "id": "pCQK10bStKk7"
      }
    },
    {
      "cell_type": "code",
      "source": [
        "from datetime import datetime\n",
        "start = datetime.now()\n",
        "print(\"The number of rows are {0}\".format(dataset.count()))\n",
        "print(\"Time taken {0}\".format(datetime.now() - start))"
      ],
      "metadata": {
        "colab": {
          "base_uri": "https://localhost:8080/"
        },
        "id": "n9_FhytkrPHC",
        "outputId": "da2855da-6cf2-4ce9-e837-20666b3f8afe"
      },
      "execution_count": 7,
      "outputs": [
        {
          "output_type": "stream",
          "name": "stdout",
          "text": [
            "The number of rows are Id       6034195\n",
            "Title    6034195\n",
            "Body     6034195\n",
            "Tags     6034187\n",
            "dtype: int64\n",
            "Time taken 0:00:01.597157\n"
          ]
        }
      ]
    },
    {
      "cell_type": "markdown",
      "source": [
        "## Check for Duplicates"
      ],
      "metadata": {
        "id": "V1efn4lSx07a"
      }
    },
    {
      "cell_type": "code",
      "source": [
        "dataset.duplicated().sum()"
      ],
      "metadata": {
        "colab": {
          "base_uri": "https://localhost:8080/"
        },
        "id": "LrtTlQXouMr-",
        "outputId": "6d13233d-705d-43de-b01a-3c847c08fc6f"
      },
      "execution_count": 12,
      "outputs": [
        {
          "output_type": "execute_result",
          "data": {
            "text/plain": [
              "0"
            ]
          },
          "metadata": {},
          "execution_count": 12
        }
      ]
    },
    {
      "cell_type": "code",
      "source": [
        ""
      ],
      "metadata": {
        "id": "sTtZAv06x_Sm"
      },
      "execution_count": null,
      "outputs": []
    }
  ]
}